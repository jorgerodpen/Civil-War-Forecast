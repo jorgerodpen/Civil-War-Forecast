{
 "cells": [
  {
   "cell_type": "markdown",
   "metadata": {},
   "source": [
    "## Importing area"
   ]
  },
  {
   "cell_type": "code",
   "execution_count": 1,
   "metadata": {},
   "outputs": [],
   "source": [
    "import civil_war_base as cw\n",
    "import pandas as pd\n",
    "import timeit\n",
    "from itertools import compress\n",
    "from country_converter import CountryConverter\n",
    "import numpy as np\n",
    "import matplotlib.pyplot as plt\n",
    "import matplotlib.dates as mdates\n",
    "import seaborn as sns\n",
    "import scipy.stats as sp\n",
    "from datetime import timedelta  \n",
    "from sklearn.decomposition import PCA\n",
    "from sklearn.preprocessing import StandardScaler\n",
    "from sklearn.ensemble import RandomForestClassifier\n",
    "from sklearn.model_selection import train_test_split, cross_val_score\n",
    "from sklearn.metrics import roc_auc_score\n",
    "from sklearn.metrics import roc_curve\n",
    "from sklearn.metrics import make_scorer\n",
    "from sklearn.model_selection import GridSearchCV"
   ]
  },
  {
   "cell_type": "markdown",
   "metadata": {},
   "source": [
    "# Forecasting civil wars\n",
    "The aim of this project is to determine the causes that start a civil war to make predictions to avoid future conflicts. It will use monthly aggregations of events registered by the Integrated Crisis Early Warning System to predict the starting, ongoingness and ending of a conflict for the next month. Although most studies focus on theory, using country's data like GDP, per capita income, crime levels, etc., this project’s approach will follow recent studies using event data.\n",
    "\n",
    "A python file called **\"civil_war_base.py\"** was created. It contains all the functions used in this notebook. For more information about the functions, please look them up in this file since they all contain docstrings with information. \n",
    "\n",
    "# 1. About the data\n",
    "\n",
    "## 1.1. Integrated Crisis Early Warning System \n",
    "The Integrated Crisis Early Warning System ([ICEWS](https://en.wikipedia.org/wiki/Integrated_Conflict_Early_Warning_System))is a repository that contains counts of daily events worldwide. The data is currently stored in the [Harvard Dataverse](https://dataverse.harvard.edu/dataset.xhtml?persistentId=doi:10.7910/DVN/28075) along with information about its content. This project uses version 29.0, with events from 1995 to April 2020. All the files are provided in the file **events.zip** in the same repository as this notebook. The file was uploaded using [Git Large File Storage](https://git-lfs.github.com/) due to its size. \n",
    "\n",
    "The ICEWS dataset records the \"who did what to whom and where\" for events across the globe. \n",
    "\n",
    "To simplify the description of the data, the year 2017 is used in the following. "
   ]
  },
  {
   "cell_type": "code",
   "execution_count": 2,
   "metadata": {},
   "outputs": [
    {
     "data": {
      "text/html": [
       "<div>\n",
       "<style scoped>\n",
       "    .dataframe tbody tr th:only-of-type {\n",
       "        vertical-align: middle;\n",
       "    }\n",
       "\n",
       "    .dataframe tbody tr th {\n",
       "        vertical-align: top;\n",
       "    }\n",
       "\n",
       "    .dataframe thead th {\n",
       "        text-align: right;\n",
       "    }\n",
       "</style>\n",
       "<table border=\"1\" class=\"dataframe\">\n",
       "  <thead>\n",
       "    <tr style=\"text-align: right;\">\n",
       "      <th></th>\n",
       "      <th>Event ID</th>\n",
       "      <th>Event Date</th>\n",
       "      <th>Source Name</th>\n",
       "      <th>Source Sectors</th>\n",
       "      <th>Source Country</th>\n",
       "      <th>Event Text</th>\n",
       "      <th>CAMEO Code</th>\n",
       "      <th>Intensity</th>\n",
       "      <th>Target Name</th>\n",
       "      <th>Target Sectors</th>\n",
       "      <th>Target Country</th>\n",
       "      <th>Story ID</th>\n",
       "      <th>Sentence Number</th>\n",
       "      <th>Publisher</th>\n",
       "      <th>City</th>\n",
       "      <th>District</th>\n",
       "      <th>Province</th>\n",
       "      <th>Country</th>\n",
       "      <th>Latitude</th>\n",
       "      <th>Longitude</th>\n",
       "    </tr>\n",
       "  </thead>\n",
       "  <tbody>\n",
       "    <tr>\n",
       "      <th>641235</th>\n",
       "      <td>28245644</td>\n",
       "      <td>11/16/2017</td>\n",
       "      <td>Grigory Borisovich Karasin</td>\n",
       "      <td>Executive,Government,Foreign Ministry</td>\n",
       "      <td>Russian Federation</td>\n",
       "      <td>Consult</td>\n",
       "      <td>40</td>\n",
       "      <td>1.0</td>\n",
       "      <td>Zurab Abashidze</td>\n",
       "      <td>Foreign Ministry,Executive,Executive Office,Go...</td>\n",
       "      <td>Georgia</td>\n",
       "      <td>45844863.0</td>\n",
       "      <td>2.0</td>\n",
       "      <td>Interfax News Service</td>\n",
       "      <td>Prague</td>\n",
       "      <td>NaN</td>\n",
       "      <td>Hlavni mesto Praha</td>\n",
       "      <td>Czech Republic</td>\n",
       "      <td>NaN</td>\n",
       "      <td>14.4208</td>\n",
       "    </tr>\n",
       "    <tr>\n",
       "      <th>553377</th>\n",
       "      <td>28096194</td>\n",
       "      <td>10/4/2017</td>\n",
       "      <td>Japan</td>\n",
       "      <td>NaN</td>\n",
       "      <td>Japan</td>\n",
       "      <td>Consult</td>\n",
       "      <td>40</td>\n",
       "      <td>1.0</td>\n",
       "      <td>Shinzo Abe</td>\n",
       "      <td>Executive,Executive Office,Government,(Nationa...</td>\n",
       "      <td>Japan</td>\n",
       "      <td>45485869.0</td>\n",
       "      <td>1.0</td>\n",
       "      <td>Unknown</td>\n",
       "      <td>NaN</td>\n",
       "      <td>NaN</td>\n",
       "      <td>Washington D.C.</td>\n",
       "      <td>United States</td>\n",
       "      <td>38.9171</td>\n",
       "      <td>-77.0003</td>\n",
       "    </tr>\n",
       "    <tr>\n",
       "      <th>15189</th>\n",
       "      <td>25355567</td>\n",
       "      <td>1/11/2017</td>\n",
       "      <td>Russia</td>\n",
       "      <td>NaN</td>\n",
       "      <td>Russian Federation</td>\n",
       "      <td>Investigate</td>\n",
       "      <td>90</td>\n",
       "      <td>-2.0</td>\n",
       "      <td>Party Member (United States)</td>\n",
       "      <td>Parties</td>\n",
       "      <td>United States</td>\n",
       "      <td>43192300.0</td>\n",
       "      <td>2.0</td>\n",
       "      <td>EFE News Service</td>\n",
       "      <td>New York City</td>\n",
       "      <td>NaN</td>\n",
       "      <td>state of New York</td>\n",
       "      <td>United States</td>\n",
       "      <td>NaN</td>\n",
       "      <td>-74.0060</td>\n",
       "    </tr>\n",
       "    <tr>\n",
       "      <th>456988</th>\n",
       "      <td>27928094</td>\n",
       "      <td>8/17/2017</td>\n",
       "      <td>Armed Gang (Palestinian Territory, Occupied)</td>\n",
       "      <td>Unidentified Forces</td>\n",
       "      <td>Occupied Palestinian Territory</td>\n",
       "      <td>Carry out suicide bombing</td>\n",
       "      <td>1831</td>\n",
       "      <td>-10.0</td>\n",
       "      <td>Hamas</td>\n",
       "      <td>(National) Major Party,Parties,International R...</td>\n",
       "      <td>Occupied Palestinian Territory</td>\n",
       "      <td>45082314.0</td>\n",
       "      <td>1.0</td>\n",
       "      <td>Agence France-Presse</td>\n",
       "      <td>Gaza</td>\n",
       "      <td>NaN</td>\n",
       "      <td>Gaza Strip</td>\n",
       "      <td>Occupied Palestinian Territory</td>\n",
       "      <td>NaN</td>\n",
       "      <td>34.4667</td>\n",
       "    </tr>\n",
       "    <tr>\n",
       "      <th>401012</th>\n",
       "      <td>27831035</td>\n",
       "      <td>7/18/2017</td>\n",
       "      <td>Head of Government (Iraq)</td>\n",
       "      <td>Executive Office,Government,Executive</td>\n",
       "      <td>Iraq</td>\n",
       "      <td>Make statement</td>\n",
       "      <td>10</td>\n",
       "      <td>0.0</td>\n",
       "      <td>Iraq</td>\n",
       "      <td>NaN</td>\n",
       "      <td>Iraq</td>\n",
       "      <td>44833123.0</td>\n",
       "      <td>6.0</td>\n",
       "      <td>EFE News Service</td>\n",
       "      <td>Mosul</td>\n",
       "      <td>NaN</td>\n",
       "      <td>Muhafazat Ninawa</td>\n",
       "      <td>Iraq</td>\n",
       "      <td>36.3350</td>\n",
       "      <td>43.1189</td>\n",
       "    </tr>\n",
       "  </tbody>\n",
       "</table>\n",
       "</div>"
      ],
      "text/plain": [
       "        Event ID  Event Date                                   Source Name  \\\n",
       "641235  28245644  11/16/2017                    Grigory Borisovich Karasin   \n",
       "553377  28096194   10/4/2017                                         Japan   \n",
       "15189   25355567   1/11/2017                                        Russia   \n",
       "456988  27928094   8/17/2017  Armed Gang (Palestinian Territory, Occupied)   \n",
       "401012  27831035   7/18/2017                     Head of Government (Iraq)   \n",
       "\n",
       "                               Source Sectors                  Source Country  \\\n",
       "641235  Executive,Government,Foreign Ministry              Russian Federation   \n",
       "553377                                    NaN                           Japan   \n",
       "15189                                     NaN              Russian Federation   \n",
       "456988                    Unidentified Forces  Occupied Palestinian Territory   \n",
       "401012  Executive Office,Government,Executive                            Iraq   \n",
       "\n",
       "                       Event Text CAMEO Code  Intensity  \\\n",
       "641235                    Consult         40        1.0   \n",
       "553377                    Consult         40        1.0   \n",
       "15189                 Investigate         90       -2.0   \n",
       "456988  Carry out suicide bombing       1831      -10.0   \n",
       "401012             Make statement         10        0.0   \n",
       "\n",
       "                         Target Name  \\\n",
       "641235               Zurab Abashidze   \n",
       "553377                    Shinzo Abe   \n",
       "15189   Party Member (United States)   \n",
       "456988                         Hamas   \n",
       "401012                          Iraq   \n",
       "\n",
       "                                           Target Sectors  \\\n",
       "641235  Foreign Ministry,Executive,Executive Office,Go...   \n",
       "553377  Executive,Executive Office,Government,(Nationa...   \n",
       "15189                                             Parties   \n",
       "456988  (National) Major Party,Parties,International R...   \n",
       "401012                                                NaN   \n",
       "\n",
       "                        Target Country    Story ID  Sentence Number  \\\n",
       "641235                         Georgia  45844863.0              2.0   \n",
       "553377                           Japan  45485869.0              1.0   \n",
       "15189                    United States  43192300.0              2.0   \n",
       "456988  Occupied Palestinian Territory  45082314.0              1.0   \n",
       "401012                            Iraq  44833123.0              6.0   \n",
       "\n",
       "                    Publisher           City District            Province  \\\n",
       "641235  Interfax News Service         Prague      NaN  Hlavni mesto Praha   \n",
       "553377                Unknown            NaN      NaN     Washington D.C.   \n",
       "15189        EFE News Service  New York City      NaN   state of New York   \n",
       "456988   Agence France-Presse           Gaza      NaN          Gaza Strip   \n",
       "401012       EFE News Service          Mosul      NaN    Muhafazat Ninawa   \n",
       "\n",
       "                               Country  Latitude  Longitude  \n",
       "641235                  Czech Republic       NaN    14.4208  \n",
       "553377                   United States   38.9171   -77.0003  \n",
       "15189                    United States       NaN   -74.0060  \n",
       "456988  Occupied Palestinian Territory       NaN    34.4667  \n",
       "401012                            Iraq   36.3350    43.1189  "
      ]
     },
     "execution_count": 2,
     "metadata": {},
     "output_type": "execute_result"
    }
   ],
   "source": [
    "year_2017 = cw.read_events_year(\"events.zip\",2017)\n",
    "year_2017.sample(5)"
   ]
  },
  {
   "cell_type": "markdown",
   "metadata": {},
   "source": [
    "The table above shows some rows from the 2017 ICEWS dataset. \n",
    "\n",
    "### 1.1.1. Conflict and Mediation Event Observations\n",
    "The Conflict and Mediation Event Observations code (CAMEO code) is a coding system for event data.  There are 20 different codes for 20 different types of events and each has different levels of subcoding. The document containing information about each code can be downloaded from the [Harvard Dataverse](https://dataverse.harvard.edu/file.xhtml?persistentId=doi:10.7910/DVN/28075/SCJPXX&version=30.0) too. \n",
    "\n",
    "### 1.1.2. Intensity \n",
    "The intensity value derives from teh CAMEO code. It ranges from -10 to 10, with -10 representing the most hostile events and 10 the most cooperative events. \n",
    "\n",
    "### 1.1.3. Cleaning the data\n",
    "For the purpose of this project, it is necessary to clean the data. The cleaning process goes like this:\n",
    "\n",
    "   **1. Select events where \"Source Country\" is the same as \"Target Country\"**: To consider only internal events that may suggest internal conflict. \n",
    "   \n",
    "   A column named \"Year_Month\" was added to store the year and the month of the event. "
   ]
  },
  {
   "cell_type": "code",
   "execution_count": 3,
   "metadata": {},
   "outputs": [
    {
     "data": {
      "text/html": [
       "<div>\n",
       "<style scoped>\n",
       "    .dataframe tbody tr th:only-of-type {\n",
       "        vertical-align: middle;\n",
       "    }\n",
       "\n",
       "    .dataframe tbody tr th {\n",
       "        vertical-align: top;\n",
       "    }\n",
       "\n",
       "    .dataframe thead th {\n",
       "        text-align: right;\n",
       "    }\n",
       "</style>\n",
       "<table border=\"1\" class=\"dataframe\">\n",
       "  <thead>\n",
       "    <tr style=\"text-align: right;\">\n",
       "      <th></th>\n",
       "      <th>Event ID</th>\n",
       "      <th>Event Date</th>\n",
       "      <th>Source Name</th>\n",
       "      <th>Source Sectors</th>\n",
       "      <th>Source Country</th>\n",
       "      <th>Event Text</th>\n",
       "      <th>CAMEO Code</th>\n",
       "      <th>Intensity</th>\n",
       "      <th>Target Name</th>\n",
       "      <th>Target Sectors</th>\n",
       "      <th>...</th>\n",
       "      <th>Story ID</th>\n",
       "      <th>Sentence Number</th>\n",
       "      <th>Publisher</th>\n",
       "      <th>City</th>\n",
       "      <th>District</th>\n",
       "      <th>Province</th>\n",
       "      <th>Country</th>\n",
       "      <th>Latitude</th>\n",
       "      <th>Longitude</th>\n",
       "      <th>Year_Month</th>\n",
       "    </tr>\n",
       "  </thead>\n",
       "  <tbody>\n",
       "    <tr>\n",
       "      <th>445984</th>\n",
       "      <td>27908735</td>\n",
       "      <td>2017-08-10</td>\n",
       "      <td>Government (India)</td>\n",
       "      <td>Government</td>\n",
       "      <td>India</td>\n",
       "      <td>Accuse</td>\n",
       "      <td>112</td>\n",
       "      <td>-2.0</td>\n",
       "      <td>Other Authorities / Officials (India)</td>\n",
       "      <td>Government</td>\n",
       "      <td>...</td>\n",
       "      <td>45030957.0</td>\n",
       "      <td>6.0</td>\n",
       "      <td>The Times of India</td>\n",
       "      <td>Thiruvananthapuram</td>\n",
       "      <td>NaN</td>\n",
       "      <td>State of Kerala</td>\n",
       "      <td>India</td>\n",
       "      <td>NaN</td>\n",
       "      <td>76.9492</td>\n",
       "      <td>2017-08</td>\n",
       "    </tr>\n",
       "    <tr>\n",
       "      <th>203410</th>\n",
       "      <td>27490995</td>\n",
       "      <td>2017-04-18</td>\n",
       "      <td>India</td>\n",
       "      <td>NaN</td>\n",
       "      <td>India</td>\n",
       "      <td>Make statement</td>\n",
       "      <td>10</td>\n",
       "      <td>0.0</td>\n",
       "      <td>Narendra Modi</td>\n",
       "      <td>Elite,Hindu,(National) Major Party,Opposition ...</td>\n",
       "      <td>...</td>\n",
       "      <td>44030212.0</td>\n",
       "      <td>1.0</td>\n",
       "      <td>Indo-Asian News Service</td>\n",
       "      <td>New Delhi</td>\n",
       "      <td>NaN</td>\n",
       "      <td>National Capital Territory of Delhi</td>\n",
       "      <td>India</td>\n",
       "      <td>28.6358</td>\n",
       "      <td>NaN</td>\n",
       "      <td>2017-04</td>\n",
       "    </tr>\n",
       "    <tr>\n",
       "      <th>551823</th>\n",
       "      <td>28092049</td>\n",
       "      <td>2017-10-04</td>\n",
       "      <td>Militant (Kurdistan Workers' Party)</td>\n",
       "      <td>International Ethnic,Kurd (Ethnic Group),Separ...</td>\n",
       "      <td>Turkey</td>\n",
       "      <td>Use unconventional violence</td>\n",
       "      <td>180</td>\n",
       "      <td>-9.0</td>\n",
       "      <td>Citizen (Turkey)</td>\n",
       "      <td>Social,General Population / Civilian / Social</td>\n",
       "      <td>...</td>\n",
       "      <td>45478683.0</td>\n",
       "      <td>1.0</td>\n",
       "      <td>Unknown</td>\n",
       "      <td>Ankara</td>\n",
       "      <td>NaN</td>\n",
       "      <td>Ankara</td>\n",
       "      <td>Turkey</td>\n",
       "      <td>39.9199</td>\n",
       "      <td>32.8543</td>\n",
       "      <td>2017-10</td>\n",
       "    </tr>\n",
       "    <tr>\n",
       "      <th>326935</th>\n",
       "      <td>27704213</td>\n",
       "      <td>2017-06-13</td>\n",
       "      <td>Jirí Rusnok</td>\n",
       "      <td>Executive,Government,Elite,Executive Office</td>\n",
       "      <td>Czech Republic</td>\n",
       "      <td>Demand</td>\n",
       "      <td>100</td>\n",
       "      <td>-5.0</td>\n",
       "      <td>Lawmaker (Czech Republic)</td>\n",
       "      <td>Government,Legislative / Parliamentary</td>\n",
       "      <td>...</td>\n",
       "      <td>44535715.0</td>\n",
       "      <td>1.0</td>\n",
       "      <td>Reuters News</td>\n",
       "      <td>Prague</td>\n",
       "      <td>NaN</td>\n",
       "      <td>Hlavni mesto Praha</td>\n",
       "      <td>Czech Republic</td>\n",
       "      <td>50.0880</td>\n",
       "      <td>NaN</td>\n",
       "      <td>2017-06</td>\n",
       "    </tr>\n",
       "    <tr>\n",
       "      <th>506776</th>\n",
       "      <td>28013737</td>\n",
       "      <td>2017-09-11</td>\n",
       "      <td>Nirmala Sitharaman</td>\n",
       "      <td>Executive,(National) Major Party,Parties,Oppos...</td>\n",
       "      <td>India</td>\n",
       "      <td>Express intent to meet or negotiate</td>\n",
       "      <td>36</td>\n",
       "      <td>4.0</td>\n",
       "      <td>Defense / Security Ministry (India)</td>\n",
       "      <td>Defense / Security Ministry,Government,Executive</td>\n",
       "      <td>...</td>\n",
       "      <td>45288817.0</td>\n",
       "      <td>6.0</td>\n",
       "      <td>Indo-Asian News Service</td>\n",
       "      <td>New Delhi</td>\n",
       "      <td>NaN</td>\n",
       "      <td>National Capital Territory of Delhi</td>\n",
       "      <td>India</td>\n",
       "      <td>28.6358</td>\n",
       "      <td>NaN</td>\n",
       "      <td>2017-09</td>\n",
       "    </tr>\n",
       "  </tbody>\n",
       "</table>\n",
       "<p>5 rows × 21 columns</p>\n",
       "</div>"
      ],
      "text/plain": [
       "        Event ID Event Date                          Source Name  \\\n",
       "445984  27908735 2017-08-10                   Government (India)   \n",
       "203410  27490995 2017-04-18                                India   \n",
       "551823  28092049 2017-10-04  Militant (Kurdistan Workers' Party)   \n",
       "326935  27704213 2017-06-13                          Jirí Rusnok   \n",
       "506776  28013737 2017-09-11                   Nirmala Sitharaman   \n",
       "\n",
       "                                           Source Sectors  Source Country  \\\n",
       "445984                                         Government           India   \n",
       "203410                                                NaN           India   \n",
       "551823  International Ethnic,Kurd (Ethnic Group),Separ...          Turkey   \n",
       "326935        Executive,Government,Elite,Executive Office  Czech Republic   \n",
       "506776  Executive,(National) Major Party,Parties,Oppos...           India   \n",
       "\n",
       "                                 Event Text CAMEO Code  Intensity  \\\n",
       "445984                               Accuse        112       -2.0   \n",
       "203410                       Make statement         10        0.0   \n",
       "551823          Use unconventional violence        180       -9.0   \n",
       "326935                               Demand        100       -5.0   \n",
       "506776  Express intent to meet or negotiate         36        4.0   \n",
       "\n",
       "                                  Target Name  \\\n",
       "445984  Other Authorities / Officials (India)   \n",
       "203410                          Narendra Modi   \n",
       "551823                       Citizen (Turkey)   \n",
       "326935              Lawmaker (Czech Republic)   \n",
       "506776    Defense / Security Ministry (India)   \n",
       "\n",
       "                                           Target Sectors  ...    Story ID  \\\n",
       "445984                                         Government  ...  45030957.0   \n",
       "203410  Elite,Hindu,(National) Major Party,Opposition ...  ...  44030212.0   \n",
       "551823      Social,General Population / Civilian / Social  ...  45478683.0   \n",
       "326935             Government,Legislative / Parliamentary  ...  44535715.0   \n",
       "506776   Defense / Security Ministry,Government,Executive  ...  45288817.0   \n",
       "\n",
       "        Sentence Number                Publisher                City District  \\\n",
       "445984              6.0       The Times of India  Thiruvananthapuram      NaN   \n",
       "203410              1.0  Indo-Asian News Service           New Delhi      NaN   \n",
       "551823              1.0                  Unknown              Ankara      NaN   \n",
       "326935              1.0             Reuters News              Prague      NaN   \n",
       "506776              6.0  Indo-Asian News Service           New Delhi      NaN   \n",
       "\n",
       "                                   Province         Country Latitude  \\\n",
       "445984                      State of Kerala           India      NaN   \n",
       "203410  National Capital Territory of Delhi           India  28.6358   \n",
       "551823                               Ankara          Turkey  39.9199   \n",
       "326935                   Hlavni mesto Praha  Czech Republic  50.0880   \n",
       "506776  National Capital Territory of Delhi           India  28.6358   \n",
       "\n",
       "        Longitude  Year_Month  \n",
       "445984    76.9492     2017-08  \n",
       "203410        NaN     2017-04  \n",
       "551823    32.8543     2017-10  \n",
       "326935        NaN     2017-06  \n",
       "506776        NaN     2017-09  \n",
       "\n",
       "[5 rows x 21 columns]"
      ]
     },
     "execution_count": 3,
     "metadata": {},
     "output_type": "execute_result"
    }
   ],
   "source": [
    "year_2017_internal = cw.internal_events_year(\"events.zip\",2017)\n",
    "year_2017_internal.sample(5)"
   ]
  },
  {
   "cell_type": "markdown",
   "metadata": {},
   "source": [
    "**2. Simplify sectors mapping them**: Four sectors will be considered: Government (Gov), Insurgents (Ins), Opposition (Opp) and People (Peo). This will simplify the model and improve its interpretability. \n",
    "\n",
    "To map \"Source/Target Name/Sectors\" column a list of possible descriptions for each sector was used.  If the name of the country was in any of the \"Source/Target Name/Sectors\" columns, the sector was identified as Government. The rest were extracted from the [Actors](https://dataverse.harvard.edu/file.xhtml?persistentId=doi:10.7910/DVN/28118/HYSJN6&version=4.0) and [Agents](https://dataverse.harvard.edu/file.xhtml?persistentId=doi:10.7910/DVN/28118/JY6S7B&version=4.0) [ICEWS dictionaries](https://dataverse.harvard.edu/dataset.xhtml?persistentId=doi:10.7910/DVN/28118). \n",
    "\n",
    "Four sectors are identified:\n",
    "- Government: Rules the country\n",
    "- Opposition: Legal opposition to the government\n",
    "- Insurgents: Rebels against the government. \n",
    "- People: Citizens of the country. Depending on the political situation they can be in favour of any of the forces above. "
   ]
  },
  {
   "cell_type": "code",
   "execution_count": 4,
   "metadata": {},
   "outputs": [
    {
     "data": {
      "text/html": [
       "<div>\n",
       "<style scoped>\n",
       "    .dataframe tbody tr th:only-of-type {\n",
       "        vertical-align: middle;\n",
       "    }\n",
       "\n",
       "    .dataframe tbody tr th {\n",
       "        vertical-align: top;\n",
       "    }\n",
       "\n",
       "    .dataframe thead th {\n",
       "        text-align: right;\n",
       "    }\n",
       "</style>\n",
       "<table border=\"1\" class=\"dataframe\">\n",
       "  <thead>\n",
       "    <tr style=\"text-align: right;\">\n",
       "      <th></th>\n",
       "      <th>Event ID</th>\n",
       "      <th>Event Date</th>\n",
       "      <th>Source Name</th>\n",
       "      <th>Source Sectors</th>\n",
       "      <th>Source Country</th>\n",
       "      <th>Event Text</th>\n",
       "      <th>CAMEO Code</th>\n",
       "      <th>Intensity</th>\n",
       "      <th>Target Name</th>\n",
       "      <th>Target Sectors</th>\n",
       "      <th>...</th>\n",
       "      <th>Story ID</th>\n",
       "      <th>Sentence Number</th>\n",
       "      <th>Publisher</th>\n",
       "      <th>City</th>\n",
       "      <th>District</th>\n",
       "      <th>Province</th>\n",
       "      <th>Country</th>\n",
       "      <th>Latitude</th>\n",
       "      <th>Longitude</th>\n",
       "      <th>Year_Month</th>\n",
       "    </tr>\n",
       "  </thead>\n",
       "  <tbody>\n",
       "    <tr>\n",
       "      <th>244810</th>\n",
       "      <td>27563326</td>\n",
       "      <td>2017-05-08</td>\n",
       "      <td>Haider Al-Abadi</td>\n",
       "      <td>Gov</td>\n",
       "      <td>Iraq</td>\n",
       "      <td>Make statement</td>\n",
       "      <td>10</td>\n",
       "      <td>0.0</td>\n",
       "      <td>Militant (Iraq)</td>\n",
       "      <td>NaN</td>\n",
       "      <td>...</td>\n",
       "      <td>44203080.0</td>\n",
       "      <td>5.0</td>\n",
       "      <td>BBC Monitoring Middle East</td>\n",
       "      <td>Karbala</td>\n",
       "      <td>NaN</td>\n",
       "      <td>Muhafazat Karbala'</td>\n",
       "      <td>Iraq</td>\n",
       "      <td>NaN</td>\n",
       "      <td>44.0249</td>\n",
       "      <td>2017-05</td>\n",
       "    </tr>\n",
       "    <tr>\n",
       "      <th>29894</th>\n",
       "      <td>25383129</td>\n",
       "      <td>2017-01-19</td>\n",
       "      <td>Tim Nicholls</td>\n",
       "      <td>Gov</td>\n",
       "      <td>Australia</td>\n",
       "      <td>Make statement</td>\n",
       "      <td>10</td>\n",
       "      <td>0.0</td>\n",
       "      <td>Protester (Australia)</td>\n",
       "      <td>Opp</td>\n",
       "      <td>...</td>\n",
       "      <td>43261679.0</td>\n",
       "      <td>5.0</td>\n",
       "      <td>The Courier-Mail</td>\n",
       "      <td>NaN</td>\n",
       "      <td>NaN</td>\n",
       "      <td>NaN</td>\n",
       "      <td>Australia</td>\n",
       "      <td>-35.28350</td>\n",
       "      <td>NaN</td>\n",
       "      <td>2017-01</td>\n",
       "    </tr>\n",
       "    <tr>\n",
       "      <th>171702</th>\n",
       "      <td>27434423</td>\n",
       "      <td>2017-04-04</td>\n",
       "      <td>Government (Hungary)</td>\n",
       "      <td>Gov</td>\n",
       "      <td>Hungary</td>\n",
       "      <td>Threaten</td>\n",
       "      <td>130</td>\n",
       "      <td>-4.4</td>\n",
       "      <td>Central European University</td>\n",
       "      <td>Peo</td>\n",
       "      <td>...</td>\n",
       "      <td>43906252.0</td>\n",
       "      <td>6.0</td>\n",
       "      <td>Baltic Daily</td>\n",
       "      <td>Budapest</td>\n",
       "      <td>NaN</td>\n",
       "      <td>Budapest fovaros</td>\n",
       "      <td>Hungary</td>\n",
       "      <td>47.49800</td>\n",
       "      <td>NaN</td>\n",
       "      <td>2017-04</td>\n",
       "    </tr>\n",
       "    <tr>\n",
       "      <th>365817</th>\n",
       "      <td>27771827</td>\n",
       "      <td>2017-07-02</td>\n",
       "      <td>Citizen (India)</td>\n",
       "      <td>Peo</td>\n",
       "      <td>India</td>\n",
       "      <td>Use unconventional violence</td>\n",
       "      <td>180</td>\n",
       "      <td>-9.0</td>\n",
       "      <td>India</td>\n",
       "      <td>Gov</td>\n",
       "      <td>...</td>\n",
       "      <td>44699625.0</td>\n",
       "      <td>3.0</td>\n",
       "      <td>The Hindu</td>\n",
       "      <td>Cochin</td>\n",
       "      <td>NaN</td>\n",
       "      <td>State of Kerala</td>\n",
       "      <td>India</td>\n",
       "      <td>NaN</td>\n",
       "      <td>76.2602</td>\n",
       "      <td>2017-07</td>\n",
       "    </tr>\n",
       "    <tr>\n",
       "      <th>418322</th>\n",
       "      <td>27861369</td>\n",
       "      <td>2017-07-27</td>\n",
       "      <td>Police (Ethiopia)</td>\n",
       "      <td>Gov</td>\n",
       "      <td>Ethiopia</td>\n",
       "      <td>Make an appeal or request</td>\n",
       "      <td>20</td>\n",
       "      <td>3.0</td>\n",
       "      <td>Ethiopia</td>\n",
       "      <td>Gov</td>\n",
       "      <td>...</td>\n",
       "      <td>44909754.0</td>\n",
       "      <td>3.0</td>\n",
       "      <td>Xinhua News Agency</td>\n",
       "      <td>Addis Ababa</td>\n",
       "      <td>NaN</td>\n",
       "      <td>Adis Abeba Astedader</td>\n",
       "      <td>Ethiopia</td>\n",
       "      <td>9.02497</td>\n",
       "      <td>NaN</td>\n",
       "      <td>2017-07</td>\n",
       "    </tr>\n",
       "  </tbody>\n",
       "</table>\n",
       "<p>5 rows × 21 columns</p>\n",
       "</div>"
      ],
      "text/plain": [
       "        Event ID Event Date           Source Name Source Sectors  \\\n",
       "244810  27563326 2017-05-08       Haider Al-Abadi            Gov   \n",
       "29894   25383129 2017-01-19          Tim Nicholls            Gov   \n",
       "171702  27434423 2017-04-04  Government (Hungary)            Gov   \n",
       "365817  27771827 2017-07-02       Citizen (India)            Peo   \n",
       "418322  27861369 2017-07-27     Police (Ethiopia)            Gov   \n",
       "\n",
       "       Source Country                   Event Text CAMEO Code  Intensity  \\\n",
       "244810           Iraq               Make statement         10        0.0   \n",
       "29894       Australia               Make statement         10        0.0   \n",
       "171702        Hungary                     Threaten        130       -4.4   \n",
       "365817          India  Use unconventional violence        180       -9.0   \n",
       "418322       Ethiopia    Make an appeal or request         20        3.0   \n",
       "\n",
       "                        Target Name Target Sectors  ...    Story ID  \\\n",
       "244810              Militant (Iraq)            NaN  ...  44203080.0   \n",
       "29894         Protester (Australia)            Opp  ...  43261679.0   \n",
       "171702  Central European University            Peo  ...  43906252.0   \n",
       "365817                        India            Gov  ...  44699625.0   \n",
       "418322                     Ethiopia            Gov  ...  44909754.0   \n",
       "\n",
       "        Sentence Number                   Publisher         City District  \\\n",
       "244810              5.0  BBC Monitoring Middle East      Karbala      NaN   \n",
       "29894               5.0            The Courier-Mail          NaN      NaN   \n",
       "171702              6.0                Baltic Daily     Budapest      NaN   \n",
       "365817              3.0                   The Hindu       Cochin      NaN   \n",
       "418322              3.0          Xinhua News Agency  Addis Ababa      NaN   \n",
       "\n",
       "                    Province    Country  Latitude  Longitude  Year_Month  \n",
       "244810    Muhafazat Karbala'       Iraq       NaN    44.0249     2017-05  \n",
       "29894                    NaN  Australia -35.28350        NaN     2017-01  \n",
       "171702      Budapest fovaros    Hungary  47.49800        NaN     2017-04  \n",
       "365817       State of Kerala      India       NaN    76.2602     2017-07  \n",
       "418322  Adis Abeba Astedader   Ethiopia   9.02497        NaN     2017-07  \n",
       "\n",
       "[5 rows x 21 columns]"
      ]
     },
     "execution_count": 4,
     "metadata": {},
     "output_type": "execute_result"
    }
   ],
   "source": [
    "year_2017_filtered = cw.read_filtered_data(\"events.zip\",2017)\n",
    "year_2017_filtered.sample(5)"
   ]
  },
  {
   "cell_type": "markdown",
   "metadata": {},
   "source": [
    "**3. Remove irrelevant columns**: Only \"Country\", \"Source Sectors\" (renamed as \"Source\"), \"CAMEO\", \"Intensity\", \"Target Sector\" (renamed as \"Target\") and \"Year_Month\" will be considered. "
   ]
  },
  {
   "cell_type": "code",
   "execution_count": 5,
   "metadata": {},
   "outputs": [
    {
     "data": {
      "text/html": [
       "<div>\n",
       "<style scoped>\n",
       "    .dataframe tbody tr th:only-of-type {\n",
       "        vertical-align: middle;\n",
       "    }\n",
       "\n",
       "    .dataframe tbody tr th {\n",
       "        vertical-align: top;\n",
       "    }\n",
       "\n",
       "    .dataframe thead th {\n",
       "        text-align: right;\n",
       "    }\n",
       "</style>\n",
       "<table border=\"1\" class=\"dataframe\">\n",
       "  <thead>\n",
       "    <tr style=\"text-align: right;\">\n",
       "      <th></th>\n",
       "      <th>Country</th>\n",
       "      <th>Source</th>\n",
       "      <th>CAMEO</th>\n",
       "      <th>Intensity</th>\n",
       "      <th>Target</th>\n",
       "      <th>Year_Month</th>\n",
       "    </tr>\n",
       "  </thead>\n",
       "  <tbody>\n",
       "    <tr>\n",
       "      <th>323399</th>\n",
       "      <td>Pakistan</td>\n",
       "      <td>Gov</td>\n",
       "      <td>112</td>\n",
       "      <td>-2.0</td>\n",
       "      <td>Peo</td>\n",
       "      <td>2017-06</td>\n",
       "    </tr>\n",
       "    <tr>\n",
       "      <th>654903</th>\n",
       "      <td>Croatia</td>\n",
       "      <td>Gov</td>\n",
       "      <td>10</td>\n",
       "      <td>0.0</td>\n",
       "      <td>Opp</td>\n",
       "      <td>2017-11</td>\n",
       "    </tr>\n",
       "    <tr>\n",
       "      <th>248102</th>\n",
       "      <td>Greece</td>\n",
       "      <td>Gov</td>\n",
       "      <td>10</td>\n",
       "      <td>0.0</td>\n",
       "      <td>Peo</td>\n",
       "      <td>2017-05</td>\n",
       "    </tr>\n",
       "    <tr>\n",
       "      <th>504</th>\n",
       "      <td>Turkey</td>\n",
       "      <td>Ins</td>\n",
       "      <td>180</td>\n",
       "      <td>-9.0</td>\n",
       "      <td>Peo</td>\n",
       "      <td>2017-01</td>\n",
       "    </tr>\n",
       "    <tr>\n",
       "      <th>405572</th>\n",
       "      <td>South Africa</td>\n",
       "      <td>Ins</td>\n",
       "      <td>193</td>\n",
       "      <td>-10.0</td>\n",
       "      <td>Peo</td>\n",
       "      <td>2017-07</td>\n",
       "    </tr>\n",
       "  </tbody>\n",
       "</table>\n",
       "</div>"
      ],
      "text/plain": [
       "             Country Source CAMEO  Intensity Target Year_Month\n",
       "323399      Pakistan    Gov   112       -2.0    Peo    2017-06\n",
       "654903       Croatia    Gov    10        0.0    Opp    2017-11\n",
       "248102        Greece    Gov    10        0.0    Peo    2017-05\n",
       "504           Turkey    Ins   180       -9.0    Peo    2017-01\n",
       "405572  South Africa    Ins   193      -10.0    Peo    2017-07"
      ]
     },
     "execution_count": 5,
     "metadata": {},
     "output_type": "execute_result"
    }
   ],
   "source": [
    "year_2017_cols = cw.read_cols_filtered(\"events.zip\",2017)\n",
    "year_2017_cols.sample(5)"
   ]
  },
  {
   "cell_type": "markdown",
   "metadata": {},
   "source": [
    "**4. Dummy variables of interaction**: A column for each Source_Target interaction will be generated (Gov_Opp, Peo_Ins, Ins_Gov,...) containing 1 if the event happens between the column sectors and 0 if not.  \n",
    "\n",
    "This dummy encoding of the interaction will be helpful when building the models, when aggregating by “Year_Month” and “Country”, allowing means and counts of each type of interaction."
   ]
  },
  {
   "cell_type": "code",
   "execution_count": 6,
   "metadata": {},
   "outputs": [
    {
     "data": {
      "text/html": [
       "<div>\n",
       "<style scoped>\n",
       "    .dataframe tbody tr th:only-of-type {\n",
       "        vertical-align: middle;\n",
       "    }\n",
       "\n",
       "    .dataframe tbody tr th {\n",
       "        vertical-align: top;\n",
       "    }\n",
       "\n",
       "    .dataframe thead th {\n",
       "        text-align: right;\n",
       "    }\n",
       "</style>\n",
       "<table border=\"1\" class=\"dataframe\">\n",
       "  <thead>\n",
       "    <tr style=\"text-align: right;\">\n",
       "      <th></th>\n",
       "      <th>Country</th>\n",
       "      <th>CAMEO</th>\n",
       "      <th>Intensity</th>\n",
       "      <th>Year_Month</th>\n",
       "      <th>Gov_Ins</th>\n",
       "      <th>Gov_Opp</th>\n",
       "      <th>Gov_Peo</th>\n",
       "      <th>Ins_Gov</th>\n",
       "      <th>Ins_Opp</th>\n",
       "      <th>Ins_Peo</th>\n",
       "      <th>Opp_Gov</th>\n",
       "      <th>Opp_Ins</th>\n",
       "      <th>Opp_Peo</th>\n",
       "      <th>Peo_Gov</th>\n",
       "      <th>Peo_Ins</th>\n",
       "      <th>Peo_Opp</th>\n",
       "    </tr>\n",
       "  </thead>\n",
       "  <tbody>\n",
       "    <tr>\n",
       "      <th>589293</th>\n",
       "      <td>India</td>\n",
       "      <td>112</td>\n",
       "      <td>-2.0</td>\n",
       "      <td>2017-10</td>\n",
       "      <td>0</td>\n",
       "      <td>0</td>\n",
       "      <td>0</td>\n",
       "      <td>0</td>\n",
       "      <td>0</td>\n",
       "      <td>0</td>\n",
       "      <td>0</td>\n",
       "      <td>0</td>\n",
       "      <td>0</td>\n",
       "      <td>1</td>\n",
       "      <td>0</td>\n",
       "      <td>0</td>\n",
       "    </tr>\n",
       "    <tr>\n",
       "      <th>278738</th>\n",
       "      <td>Bahrain</td>\n",
       "      <td>180</td>\n",
       "      <td>-9.0</td>\n",
       "      <td>2017-05</td>\n",
       "      <td>0</td>\n",
       "      <td>0</td>\n",
       "      <td>0</td>\n",
       "      <td>0</td>\n",
       "      <td>0</td>\n",
       "      <td>0</td>\n",
       "      <td>0</td>\n",
       "      <td>0</td>\n",
       "      <td>0</td>\n",
       "      <td>1</td>\n",
       "      <td>0</td>\n",
       "      <td>0</td>\n",
       "    </tr>\n",
       "    <tr>\n",
       "      <th>450379</th>\n",
       "      <td>India</td>\n",
       "      <td>173</td>\n",
       "      <td>-5.0</td>\n",
       "      <td>2017-08</td>\n",
       "      <td>0</td>\n",
       "      <td>0</td>\n",
       "      <td>1</td>\n",
       "      <td>0</td>\n",
       "      <td>0</td>\n",
       "      <td>0</td>\n",
       "      <td>0</td>\n",
       "      <td>0</td>\n",
       "      <td>0</td>\n",
       "      <td>0</td>\n",
       "      <td>0</td>\n",
       "      <td>0</td>\n",
       "    </tr>\n",
       "    <tr>\n",
       "      <th>170499</th>\n",
       "      <td>India</td>\n",
       "      <td>112</td>\n",
       "      <td>-2.0</td>\n",
       "      <td>2017-04</td>\n",
       "      <td>0</td>\n",
       "      <td>0</td>\n",
       "      <td>0</td>\n",
       "      <td>0</td>\n",
       "      <td>0</td>\n",
       "      <td>0</td>\n",
       "      <td>0</td>\n",
       "      <td>0</td>\n",
       "      <td>0</td>\n",
       "      <td>1</td>\n",
       "      <td>0</td>\n",
       "      <td>0</td>\n",
       "    </tr>\n",
       "    <tr>\n",
       "      <th>655972</th>\n",
       "      <td>India</td>\n",
       "      <td>173</td>\n",
       "      <td>-5.0</td>\n",
       "      <td>2017-11</td>\n",
       "      <td>0</td>\n",
       "      <td>0</td>\n",
       "      <td>1</td>\n",
       "      <td>0</td>\n",
       "      <td>0</td>\n",
       "      <td>0</td>\n",
       "      <td>0</td>\n",
       "      <td>0</td>\n",
       "      <td>0</td>\n",
       "      <td>0</td>\n",
       "      <td>0</td>\n",
       "      <td>0</td>\n",
       "    </tr>\n",
       "  </tbody>\n",
       "</table>\n",
       "</div>"
      ],
      "text/plain": [
       "        Country CAMEO  Intensity Year_Month  Gov_Ins  Gov_Opp  Gov_Peo  \\\n",
       "589293    India   112       -2.0    2017-10        0        0        0   \n",
       "278738  Bahrain   180       -9.0    2017-05        0        0        0   \n",
       "450379    India   173       -5.0    2017-08        0        0        1   \n",
       "170499    India   112       -2.0    2017-04        0        0        0   \n",
       "655972    India   173       -5.0    2017-11        0        0        1   \n",
       "\n",
       "        Ins_Gov  Ins_Opp  Ins_Peo  Opp_Gov  Opp_Ins  Opp_Peo  Peo_Gov  \\\n",
       "589293        0        0        0        0        0        0        1   \n",
       "278738        0        0        0        0        0        0        1   \n",
       "450379        0        0        0        0        0        0        0   \n",
       "170499        0        0        0        0        0        0        1   \n",
       "655972        0        0        0        0        0        0        0   \n",
       "\n",
       "        Peo_Ins  Peo_Opp  \n",
       "589293        0        0  \n",
       "278738        0        0  \n",
       "450379        0        0  \n",
       "170499        0        0  \n",
       "655972        0        0  "
      ]
     },
     "execution_count": 6,
     "metadata": {},
     "output_type": "execute_result"
    }
   ],
   "source": [
    "year_2017_final = cw.source_target_interaction(\"events.zip\",2017)\n",
    "year_2017_final.sample(5)"
   ]
  },
  {
   "cell_type": "markdown",
   "metadata": {},
   "source": [
    "**5. Adding ISO3 country code**: To avoid double counting a country (for example, North Korea and Republic of Korea) the ISO3 country code will be added. "
   ]
  },
  {
   "cell_type": "code",
   "execution_count": 7,
   "metadata": {},
   "outputs": [
    {
     "data": {
      "text/html": [
       "<div>\n",
       "<style scoped>\n",
       "    .dataframe tbody tr th:only-of-type {\n",
       "        vertical-align: middle;\n",
       "    }\n",
       "\n",
       "    .dataframe tbody tr th {\n",
       "        vertical-align: top;\n",
       "    }\n",
       "\n",
       "    .dataframe thead th {\n",
       "        text-align: right;\n",
       "    }\n",
       "</style>\n",
       "<table border=\"1\" class=\"dataframe\">\n",
       "  <thead>\n",
       "    <tr style=\"text-align: right;\">\n",
       "      <th></th>\n",
       "      <th>Country</th>\n",
       "      <th>ISO3</th>\n",
       "      <th>Year_Month</th>\n",
       "      <th>CAMEO</th>\n",
       "      <th>Intensity</th>\n",
       "      <th>Gov_Ins</th>\n",
       "      <th>Gov_Opp</th>\n",
       "      <th>Gov_Peo</th>\n",
       "      <th>Ins_Gov</th>\n",
       "      <th>Ins_Opp</th>\n",
       "      <th>Ins_Peo</th>\n",
       "      <th>Opp_Gov</th>\n",
       "      <th>Opp_Ins</th>\n",
       "      <th>Opp_Peo</th>\n",
       "      <th>Peo_Gov</th>\n",
       "      <th>Peo_Ins</th>\n",
       "      <th>Peo_Opp</th>\n",
       "    </tr>\n",
       "  </thead>\n",
       "  <tbody>\n",
       "    <tr>\n",
       "      <th>576063</th>\n",
       "      <td>India</td>\n",
       "      <td>IND</td>\n",
       "      <td>2017-10</td>\n",
       "      <td>41</td>\n",
       "      <td>1.0</td>\n",
       "      <td>0</td>\n",
       "      <td>0</td>\n",
       "      <td>1</td>\n",
       "      <td>0</td>\n",
       "      <td>0</td>\n",
       "      <td>0</td>\n",
       "      <td>0</td>\n",
       "      <td>0</td>\n",
       "      <td>0</td>\n",
       "      <td>0</td>\n",
       "      <td>0</td>\n",
       "      <td>0</td>\n",
       "    </tr>\n",
       "    <tr>\n",
       "      <th>338658</th>\n",
       "      <td>United Kingdom</td>\n",
       "      <td>GBR</td>\n",
       "      <td>2017-06</td>\n",
       "      <td>173</td>\n",
       "      <td>-5.0</td>\n",
       "      <td>0</td>\n",
       "      <td>0</td>\n",
       "      <td>1</td>\n",
       "      <td>0</td>\n",
       "      <td>0</td>\n",
       "      <td>0</td>\n",
       "      <td>0</td>\n",
       "      <td>0</td>\n",
       "      <td>0</td>\n",
       "      <td>0</td>\n",
       "      <td>0</td>\n",
       "      <td>0</td>\n",
       "    </tr>\n",
       "    <tr>\n",
       "      <th>249545</th>\n",
       "      <td>Nigeria</td>\n",
       "      <td>NGA</td>\n",
       "      <td>2017-05</td>\n",
       "      <td>193</td>\n",
       "      <td>-10.0</td>\n",
       "      <td>0</td>\n",
       "      <td>0</td>\n",
       "      <td>1</td>\n",
       "      <td>0</td>\n",
       "      <td>0</td>\n",
       "      <td>0</td>\n",
       "      <td>0</td>\n",
       "      <td>0</td>\n",
       "      <td>0</td>\n",
       "      <td>0</td>\n",
       "      <td>0</td>\n",
       "      <td>0</td>\n",
       "    </tr>\n",
       "    <tr>\n",
       "      <th>229406</th>\n",
       "      <td>Saudi Arabia</td>\n",
       "      <td>SAU</td>\n",
       "      <td>2017-04</td>\n",
       "      <td>173</td>\n",
       "      <td>-5.0</td>\n",
       "      <td>0</td>\n",
       "      <td>0</td>\n",
       "      <td>1</td>\n",
       "      <td>0</td>\n",
       "      <td>0</td>\n",
       "      <td>0</td>\n",
       "      <td>0</td>\n",
       "      <td>0</td>\n",
       "      <td>0</td>\n",
       "      <td>0</td>\n",
       "      <td>0</td>\n",
       "      <td>0</td>\n",
       "    </tr>\n",
       "    <tr>\n",
       "      <th>160313</th>\n",
       "      <td>India</td>\n",
       "      <td>IND</td>\n",
       "      <td>2017-03</td>\n",
       "      <td>173</td>\n",
       "      <td>-5.0</td>\n",
       "      <td>1</td>\n",
       "      <td>0</td>\n",
       "      <td>0</td>\n",
       "      <td>0</td>\n",
       "      <td>0</td>\n",
       "      <td>0</td>\n",
       "      <td>0</td>\n",
       "      <td>0</td>\n",
       "      <td>0</td>\n",
       "      <td>0</td>\n",
       "      <td>0</td>\n",
       "      <td>0</td>\n",
       "    </tr>\n",
       "  </tbody>\n",
       "</table>\n",
       "</div>"
      ],
      "text/plain": [
       "               Country ISO3 Year_Month CAMEO  Intensity  Gov_Ins  Gov_Opp  \\\n",
       "576063           India  IND    2017-10    41        1.0        0        0   \n",
       "338658  United Kingdom  GBR    2017-06   173       -5.0        0        0   \n",
       "249545         Nigeria  NGA    2017-05   193      -10.0        0        0   \n",
       "229406    Saudi Arabia  SAU    2017-04   173       -5.0        0        0   \n",
       "160313           India  IND    2017-03   173       -5.0        1        0   \n",
       "\n",
       "        Gov_Peo  Ins_Gov  Ins_Opp  Ins_Peo  Opp_Gov  Opp_Ins  Opp_Peo  \\\n",
       "576063        1        0        0        0        0        0        0   \n",
       "338658        1        0        0        0        0        0        0   \n",
       "249545        1        0        0        0        0        0        0   \n",
       "229406        1        0        0        0        0        0        0   \n",
       "160313        0        0        0        0        0        0        0   \n",
       "\n",
       "        Peo_Gov  Peo_Ins  Peo_Opp  \n",
       "576063        0        0        0  \n",
       "338658        0        0        0  \n",
       "249545        0        0        0  \n",
       "229406        0        0        0  \n",
       "160313        0        0        0  "
      ]
     },
     "execution_count": 7,
     "metadata": {},
     "output_type": "execute_result"
    }
   ],
   "source": [
    "year_2017_iso3 = cw.iso3country(\"events.zip\",2017)\n",
    "year_2017_iso3.sample(5)"
   ]
  },
  {
   "cell_type": "markdown",
   "metadata": {},
   "source": [
    "To see all events considered, a file called \"all_events.csv\" was created:"
   ]
  },
  {
   "cell_type": "raw",
   "metadata": {},
   "source": [
    "all_events = cw.all_events(\"events.zip\", 1995, 2018)\n",
    "all_events.to_csv(\"all_events.csv\")"
   ]
  },
  {
   "cell_type": "markdown",
   "metadata": {},
   "source": [
    "As a final note, only about 25% of the original data was used for the models:"
   ]
  },
  {
   "cell_type": "code",
   "execution_count": 8,
   "metadata": {},
   "outputs": [
    {
     "data": {
      "text/plain": [
       "0.23731886540606764"
      ]
     },
     "execution_count": 8,
     "metadata": {},
     "output_type": "execute_result"
    }
   ],
   "source": [
    "len(year_2017_iso3)/len(year_2017)"
   ]
  },
  {
   "cell_type": "markdown",
   "metadata": {},
   "source": [
    "# 1.2. Political Instability Task Force\n",
    "\n",
    "The State Failure Problem dataset will be used to stablish the start and ending of a civil war. This dataset comes from the Political Instability Task Force ([PITF](https://en.wikipedia.org/wiki/Political_Instability_Task_Force)), which is an American project that focuses on collecting data of political conflicts and state failure. The dataset can be found on the Center of Systemic Peace [webiste](http://www.systemicpeace.org/inscrdata.html) as the [Cosolidated Cases](http://www.systemicpeace.org/inscr/PITF%20Consolidated%20Case%20List%202018.pdf) dataset. The PITF criteria to determine a civil war can be found in its [Codebook](http://www.systemicpeace.org/inscr/PITFProbSetCodebook2018.pdf). This dataset containg civil wars from 1955 to 2018. \n",
    "\n",
    "## 1.2.1. Cleaning the data\n",
    "The original data is presented in a PDF an was converted to a **.xlsx** using a [PDF to Excel Converter](https://smallpdf.com/pdf-to-excel). The returned file contains errors. A function that reads and fixes the data was defined <code>read_PITF()</code>:"
   ]
  },
  {
   "cell_type": "code",
   "execution_count": 9,
   "metadata": {},
   "outputs": [
    {
     "data": {
      "text/html": [
       "<div>\n",
       "<style scoped>\n",
       "    .dataframe tbody tr th:only-of-type {\n",
       "        vertical-align: middle;\n",
       "    }\n",
       "\n",
       "    .dataframe tbody tr th {\n",
       "        vertical-align: top;\n",
       "    }\n",
       "\n",
       "    .dataframe thead th {\n",
       "        text-align: right;\n",
       "    }\n",
       "</style>\n",
       "<table border=\"1\" class=\"dataframe\">\n",
       "  <thead>\n",
       "    <tr style=\"text-align: right;\">\n",
       "      <th></th>\n",
       "      <th>ISO3</th>\n",
       "      <th>Year_Month_S</th>\n",
       "      <th>Year_Month_F</th>\n",
       "    </tr>\n",
       "  </thead>\n",
       "  <tbody>\n",
       "    <tr>\n",
       "      <th>127</th>\n",
       "      <td>PHL</td>\n",
       "      <td>1969-11</td>\n",
       "      <td>2018-12</td>\n",
       "    </tr>\n",
       "    <tr>\n",
       "      <th>116</th>\n",
       "      <td>NGA</td>\n",
       "      <td>2006-01</td>\n",
       "      <td>2018-12</td>\n",
       "    </tr>\n",
       "    <tr>\n",
       "      <th>7</th>\n",
       "      <td>ARM</td>\n",
       "      <td>1995-07</td>\n",
       "      <td>1996-09</td>\n",
       "    </tr>\n",
       "    <tr>\n",
       "      <th>59</th>\n",
       "      <td>FJI</td>\n",
       "      <td>2006-12</td>\n",
       "      <td>2006-12</td>\n",
       "    </tr>\n",
       "    <tr>\n",
       "      <th>169</th>\n",
       "      <td>ZMB</td>\n",
       "      <td>1996-11</td>\n",
       "      <td>1996-11</td>\n",
       "    </tr>\n",
       "  </tbody>\n",
       "</table>\n",
       "</div>"
      ],
      "text/plain": [
       "    ISO3 Year_Month_S Year_Month_F\n",
       "127  PHL      1969-11      2018-12\n",
       "116  NGA      2006-01      2018-12\n",
       "7    ARM      1995-07      1996-09\n",
       "59   FJI      2006-12      2006-12\n",
       "169  ZMB      1996-11      1996-11"
      ]
     },
     "execution_count": 9,
     "metadata": {},
     "output_type": "execute_result"
    }
   ],
   "source": [
    "PITF = cw.read_PITF(\"PITF Consolidated Case List 2018-converted.xlsx\")\n",
    "PITF.sample(5)"
   ]
  },
  {
   "cell_type": "markdown",
   "metadata": {},
   "source": [
    "# 2. Data analysis and model building\n",
    "Since the project is using monthly aggregations of events, the target variable will be a categorical one, with 4 categories: 000 (No civil war), 001 (Civil war ongoing), 010 (Civil war ending) and 100 (Civil war starting). This encoding will allow to see differences between cases more easier. For each row, the code will represent what will happen in the next month. \n",
    "\n",
    "Some countries do not register events for certain months. In that case, the values for each column in the missing \"Year_Month\" value will be filled with 0s.\n",
    "\n",
    "To determine those difference, t-tests will be applied between cases where no civil war is taking place (000) and cases were a civil war is starting (100). This will allow to see if there is any particular difference between cases. For ongoingness (001) and ending (010) of the civil war, t-test will be used to determine differences between those cases. Statistical significance will be considered for any p-value bellow 0.05. If none of the p-values are bellow 0.05, values bellow 0.1 will be studied, although not considered statistically significant. \n",
    "\n",
    "Principal component analysis will be applied on each model to look at data distributions and to see how well the model separates the data between cases. It will also be used to visualise how each predictor can be relevant at predicting civil wars inspecting the two first principal components and the contributions of each predictor. \n",
    "\n",
    "Finally, data will be modeled with random forests. Random forests are chosen as model because they can handle outliers and noise better than the other models. They are also good at reducing overfitting, which is ideal for the imbalanced data of this project. Each random forest will be the same and have 1000 trees with a maximum of 5 leaf nodes to avoid overfitting. Models will not be tuned as the purpose of this project is not to generate the perfect model, it is to understand key factors that may lead to a civil war. To meassure the model performance, the area under the curve (AUC) of the receiving operating caracteristic curve (ROC) will be used. \n",
    "\n",
    "One important thing to notice is the difference in the amount of data for each month between 1995 and 2018:"
   ]
  },
  {
   "cell_type": "code",
   "execution_count": 10,
   "metadata": {},
   "outputs": [],
   "source": [
    "all_events = pd.read_csv(\"all_events.csv\", low_memory = False).drop(\"Unnamed: 0\", axis = 1)\n",
    "all_events[\"Year_Month\"] = pd.to_datetime(all_events[\"Year_Month\"])"
   ]
  },
  {
   "cell_type": "code",
   "execution_count": 11,
   "metadata": {},
   "outputs": [
    {
     "data": {
      "image/png": "[encoded data removed]",
      "text/plain": [
       "<Figure size 1080x360 with 1 Axes>"
      ]
     },
     "metadata": {
      "needs_background": "light"
     },
     "output_type": "display_data"
    }
   ],
   "source": [
    "fig, ax = plt.subplots(figsize = (15,5))\n",
    "ax.plot(all_events[\"Year_Month\"].value_counts().sort_index(), linewidth=4)\n",
    "ax.xaxis.set_major_locator(mdates.YearLocator())\n",
    "ax.xaxis.set_major_formatter(mdates.DateFormatter('%Y')) \n",
    "ax.grid()\n",
    "plt.xticks(rotation=45);\n",
    "ax.autoscale(enable=True, axis='x', tight=True)\n",
    "plt.rcParams.update({'font.size': 22})"
   ]
  },
  {
   "cell_type": "markdown",
   "metadata": {},
   "source": [
    "The ammount of data in each month varies during time. Models that rely on counts can not be used, since this differences may bias the results. Relative (fraction of the total) or average models will be used to avoid this. \n",
    "\n",
    "For training porpuses, the model will be trained from 2004 onwards, and the rest of the data will be used as a test set. Validation will be performed using out of bag samples. "
   ]
  },
  {
   "cell_type": "code",
   "execution_count": 12,
   "metadata": {},
   "outputs": [],
   "source": [
    "all_events[\"Year_Month\"] = all_events[\"Year_Month\"].dt.to_period(\"M\")"
   ]
  },
  {
   "cell_type": "markdown",
   "metadata": {},
   "source": [
    "## 2.1. Interaction counts model\n",
    "The interaction counts model records the number of interactions between each pair of sectors that occured during a month. The purpose of this model if to see if certain interactions increase during civil war periods. \n",
    "\n",
    "For that, events will be aggregated by \"ISO3\" and \"Year_Month\":"
   ]
  },
  {
   "cell_type": "code",
   "execution_count": 13,
   "metadata": {},
   "outputs": [],
   "source": [
    "interaction_counts = all_events.drop([\"Country\",\"Intensity\"], axis = 1) \\\n",
    ".groupby([\"ISO3\", \"Year_Month\"]).sum().reset_index()"
   ]
  },
  {
   "cell_type": "markdown",
   "metadata": {},
   "source": [
    "Then missing months for certain countries will be added:"
   ]
  },
  {
   "cell_type": "code",
   "execution_count": 14,
   "metadata": {},
   "outputs": [],
   "source": [
    "interaction_counts = cw.add_missing_months(interaction_counts)"
   ]
  },
  {
   "cell_type": "markdown",
   "metadata": {},
   "source": [
    "And finaly an extra column with descriptions \"000\" for no civil war occuring, \"001\" for ongoing civil wars, \"010\" for ending civil wars and \"100\" for starting civil wars. All values are shifted one month up so that the model is able to predict for the next month (i.e., 2013-05 has what happened on 2013-06):"
   ]
  },
  {
   "cell_type": "code",
   "execution_count": null,
   "metadata": {},
   "outputs": [],
   "source": [
    "interaction_counts = cw.add_cw(interaction_counts, \"PITF Consolidated Case List 2018-converted.xlsx\")"
   ]
  },
  {
   "cell_type": "code",
   "execution_count": null,
   "metadata": {},
   "outputs": [],
   "source": [
    "interaction_counts.sample(5)"
   ]
  },
  {
   "cell_type": "markdown",
   "metadata": {},
   "source": [
    "### 2.1.1. Statistical differences between predictors\n",
    "This will provide information about what interactions increase or decrease during a civil war. The aim is to discover key sector interactions when predicting conflict. "
   ]
  },
  {
   "cell_type": "code",
   "execution_count": null,
   "metadata": {},
   "outputs": [],
   "source": [
    "# Separating events\n",
    "no_civil_war = interaction_counts[interaction_counts[\"CW_plus1\"]==\"000\"]\n",
    "civil_war_starts = interaction_counts[interaction_counts[\"CW_plus1\"]==\"100\"]\n",
    "civil_war_finishes = interaction_counts[interaction_counts[\"CW_plus1\"]==\"010\"]\n",
    "civil_war_ongoing = interaction_counts[interaction_counts[\"CW_plus1\"]==\"001\"]"
   ]
  },
  {
   "cell_type": "markdown",
   "metadata": {},
   "source": [
    "One quick look at the means can help later with the p-values:"
   ]
  },
  {
   "cell_type": "code",
   "execution_count": null,
   "metadata": {},
   "outputs": [],
   "source": [
    "cols = interaction_counts.columns[2:-1]\n",
    "mean_values = pd.DataFrame(index = [\"000\", \"100\", \"001\", \"010\"], columns = cols)\n",
    "mean_values.loc[\"000\",:] = no_civil_war[cols].mean().round(4)\n",
    "mean_values.loc[\"100\",:] = civil_war_starts[cols].mean().round(4)\n",
    "mean_values.loc[\"001\",:] = civil_war_ongoing[cols].mean().round(4)\n",
    "mean_values.loc[\"010\",:] = civil_war_finishes[cols].mean().round(4)\n",
    "mean_values"
   ]
  },
  {
   "cell_type": "markdown",
   "metadata": {},
   "source": [
    "The means suggest that an scalation of the conflict can be derived from the data, where values for monthly aggregations without civil wars (\"000\") have lower values than the rest of cases (\"100\", \"010\" and \"001\"). Ongoing civil wars (\"001\") tend to have the highest means in each predcitor, and then the mean decreases at the end of a civil war (\"010\"). Ending civil wars have higher number of counts than starting civil wars in some predictors and sometimes have lower number of counts. \n",
    "\n",
    "To obtain differences between the means, t-tests will be performed. First, cases where no civil war is taking place (\"000\") and cases where a civil war starts (\"100\") will be considered:"
   ]
  },
  {
   "cell_type": "code",
   "execution_count": null,
   "metadata": {},
   "outputs": [],
   "source": [
    "pvalues_snw = []\n",
    "for i in range(0, len(cols)):\n",
    "    a = no_civil_war[cols[i]]\n",
    "    b = civil_war_starts[cols[i]]\n",
    "    pvalue = sp.ttest_ind(a, b, equal_var=False).pvalue\n",
    "    pvalues_snw.append((cols[i], pvalue))\n",
    "pd.DataFrame(pvalues_snw).set_index(0).sort_values(1).round(3).transpose()"
   ]
  },
  {
   "cell_type": "markdown",
   "metadata": {},
   "source": [
    "Three columns have p-values bellow the threshold of 0.05, meaning that this columns have statistically different mean values. Their means are:"
   ]
  },
  {
   "cell_type": "code",
   "execution_count": null,
   "metadata": {},
   "outputs": [],
   "source": [
    "mean_values.loc[[\"000\",\"100\"],[\"Ins_Gov\", \"Peo_Gov\", \"Gov_Peo\"]]"
   ]
  },
  {
   "cell_type": "markdown",
   "metadata": {},
   "source": [
    "For all columns, the total number of registered events increase significantly when a civil war is about to start. In the first two columns where the difference is significant the Government is the target, and it interacts with either People or Insurgents. The last column includes Government as the Source and People as the target. \n",
    "\n",
    "To determine if a civil war is continuing or is going to end, p-values for the differences between predictors are."
   ]
  },
  {
   "cell_type": "code",
   "execution_count": null,
   "metadata": {},
   "outputs": [],
   "source": [
    "pvalues_of = []\n",
    "for i in range(0, len(cols)):\n",
    "    a = civil_war_finishes[cols[i]]\n",
    "    b = civil_war_ongoing[cols[i]]\n",
    "    pvalue = sp.ttest_ind(a, b, equal_var=False).pvalue\n",
    "    pvalues_of.append((cols[i], pvalue))\n",
    "pd.DataFrame(pvalues_of).set_index(0).sort_values(1).transpose()"
   ]
  },
  {
   "cell_type": "markdown",
   "metadata": {},
   "source": [
    "There are 6 p-values bellow 0.05. In fact, these p-values are very low. The means for each case are:  "
   ]
  },
  {
   "cell_type": "code",
   "execution_count": null,
   "metadata": {},
   "outputs": [],
   "source": [
    "mean_values.loc[[\"001\",\"010\"],[\"Opp_Peo\", \"Gov_Opp\", \"Opp_Gov\", \"Gov_Peo\", \"Peo_Gov\", \"Peo_Opp\"]]"
   ]
  },
  {
   "cell_type": "markdown",
   "metadata": {},
   "source": [
    "So when a civil war is about to end, these predictors decrease significantly. This suggest that a relaxation of the conflict occurs. Opposition this time is more relevant than Insurgents, with it being either the source or the target with Government and People. Interaction between People and Government is also present. "
   ]
  },
  {
   "cell_type": "markdown",
   "metadata": {},
   "source": [
    "### 2.1.2. Principal component analysis\n",
    "Data will be standarized to perform PCA:"
   ]
  },
  {
   "cell_type": "code",
   "execution_count": null,
   "metadata": {},
   "outputs": [],
   "source": [
    "# Data\n",
    "data = interaction_counts.iloc[:,2:-1]\n",
    "\n",
    "# Standardize\n",
    "ss = StandardScaler()\n",
    "data = ss.fit_transform(data)"
   ]
  },
  {
   "cell_type": "code",
   "execution_count": null,
   "metadata": {},
   "outputs": [],
   "source": [
    "pca = PCA(2)\n",
    "pca.fit(data)"
   ]
  },
  {
   "cell_type": "code",
   "execution_count": null,
   "metadata": {},
   "outputs": [],
   "source": [
    "pca.explained_variance_ratio_"
   ]
  },
  {
   "cell_type": "code",
   "execution_count": null,
   "metadata": {},
   "outputs": [],
   "source": [
    "np.sum(pca.explained_variance_ratio_)"
   ]
  },
  {
   "cell_type": "markdown",
   "metadata": {},
   "source": [
    "The two first principal components explain about 75% of the total variation in the data. This is very relevant, since each component can give a deeper insight into our model. To visualize the results, these two first principal components will be used:"
   ]
  },
  {
   "cell_type": "code",
   "execution_count": null,
   "metadata": {},
   "outputs": [],
   "source": [
    "data_transformed = pca.transform(data)"
   ]
  },
  {
   "cell_type": "code",
   "execution_count": null,
   "metadata": {},
   "outputs": [],
   "source": [
    "f, ax = plt.subplots(ncols = 3, figsize = (20,5))\n",
    "ax[0].scatter(data_transformed[:,0], data_transformed[:,1], alpha = 0.1)\n",
    "ax[0].scatter(data_transformed[interaction_counts[\"CW_plus1\"]==\"100\",0], \n",
    "            data_transformed[interaction_counts[\"CW_plus1\"]==\"100\",1], alpha = 0.5)\n",
    "ax[0].legend([\"All values\", \"100\"], prop={'size': 12})\n",
    "ax[1].scatter(data_transformed[:,0], data_transformed[:,1], alpha = 0.1)\n",
    "ax[1].scatter(data_transformed[interaction_counts[\"CW_plus1\"]==\"010\",0], \n",
    "            data_transformed[interaction_counts[\"CW_plus1\"]==\"010\",1], alpha = 0.5)\n",
    "ax[1].legend([\"All values\", \"010\"], prop={'size': 12})\n",
    "ax[2].scatter(data_transformed[:,0], data_transformed[:,1], alpha = 0.1)\n",
    "ax[2].scatter(data_transformed[interaction_counts[\"CW_plus1\"]==\"001\",0], \n",
    "            data_transformed[interaction_counts[\"CW_plus1\"]==\"001\",1], alpha = 0.5)\n",
    "ax[2].legend([\"All values\", \"001\"], prop={'size': 12})"
   ]
  },
  {
   "cell_type": "markdown",
   "metadata": {},
   "source": [
    "The values are displayed in a fan-shaped distribution. Starting and ending civil wars tend to be towards the peak of the fan (0,0), while ongoing civil wars are distributed throughout the global distribution. \n",
    "\n",
    "Starting civil wars tend to be near the lower edge of the fan-shaped distribution, while ending civil wars tend to be near the top edge. This suggest that the second principal component separates the data between starting and ending civil wars. \n",
    "\n",
    "Predictors sorted by relevance in the first component are:"
   ]
  },
  {
   "cell_type": "code",
   "execution_count": null,
   "metadata": {},
   "outputs": [],
   "source": [
    "components = pd.DataFrame(pca.components_).transpose()\n",
    "sorted_cols = components[0].abs().sort_values(ascending = False).index\n",
    "[(cols[i], components.iloc[i,0]) for i in sorted_cols]"
   ]
  },
  {
   "cell_type": "markdown",
   "metadata": {},
   "source": [
    "Most of the predictors are very close to 0.3, suggesting that they all are relevant for the first component. Interactions between Insurgents and the Opposition have lower coeficients. *\"Ins_Gov\"* has also a lower coeficient than the rest of the predictors.\n",
    "\n",
    "For the second component:"
   ]
  },
  {
   "cell_type": "code",
   "execution_count": null,
   "metadata": {},
   "outputs": [],
   "source": [
    "sorted_cols = components[1].abs().sort_values(ascending = False).index\n",
    "[(cols[i], components.iloc[i,1]) for i in sorted_cols]"
   ]
  },
  {
   "cell_type": "markdown",
   "metadata": {},
   "source": [
    "Interaction between Insurgents and Government are the predictors with a higher coeficient in the second component. The most relevant predictor is *\"Ins_Gov\"*. \n",
    "\n",
    "Since starting civil wars tended to be on the lower edge of the fan-shaped distribution, this means that starting civil wars have a negative second component value, while ending civil wars have a positive second component value. This means that, after standarization, starting civil wars have higher values of where coeficients have a negative value (*\"Gov_Opp\"*, *\"Opp_Gov\"*, *\"Peo_Opp\"*,...) than ending civil wars. This is similar to the results obtained from the means of each column, where depending on the predictor, ending civil wars had lower values than starting civil wars. "
   ]
  },
  {
   "cell_type": "markdown",
   "metadata": {},
   "source": [
    "### 2.1.3. Training the model\n",
    "Selecting the training and testing sets splitting them in 2004:"
   ]
  },
  {
   "cell_type": "code",
   "execution_count": null,
   "metadata": {},
   "outputs": [],
   "source": [
    "date_filter = \"2004-01\"\n",
    "\n",
    "Xtrain = interaction_counts[interaction_counts[\"Year_Month\"]>=date_filter].iloc[:,2:-1]\n",
    "ytrain = interaction_counts[interaction_counts[\"Year_Month\"]>=date_filter].iloc[:,-1]\n",
    "\n",
    "Xtest = interaction_counts[interaction_counts[\"Year_Month\"]<date_filter].iloc[:,2:-1]\n",
    "ytest = interaction_counts[interaction_counts[\"Year_Month\"]<date_filter].iloc[:,-1]"
   ]
  },
  {
   "cell_type": "markdown",
   "metadata": {},
   "source": [
    "Training the model:"
   ]
  },
  {
   "cell_type": "code",
   "execution_count": null,
   "metadata": {},
   "outputs": [],
   "source": [
    "rf1 = RandomForestClassifier(random_state = 1492, n_estimators = 1000, oob_score = True,\n",
    "                               criterion = \"entropy\", max_leaf_nodes=5);\n",
    "rf1.fit(Xtrain, ytrain)"
   ]
  },
  {
   "cell_type": "markdown",
   "metadata": {},
   "source": [
    "Evaluating model performance from out of bag samples:"
   ]
  },
  {
   "cell_type": "code",
   "execution_count": null,
   "metadata": {},
   "outputs": [],
   "source": [
    "ytrain_score = rf1.oob_decision_function_"
   ]
  },
  {
   "cell_type": "code",
   "execution_count": null,
   "metadata": {},
   "outputs": [],
   "source": [
    "classes = rf1.classes_\n",
    "f, ax = plt.subplots()\n",
    "for i in range(0,len(classes)):\n",
    "    print(classes[i],':',roc_auc_score(ytrain==classes[i], ytrain_score[:,i]))\n",
    "    fp, tp, _ = roc_curve(ytrain==classes[i], ytrain_score[:,i])\n",
    "    ax.plot(fp, tp)\n",
    "ax.plot([0,1],[0,1]) \n",
    "plt.rcParams.update({'font.size': 12});\n",
    "plt.legend([\"000\",\"001\",\"010\",\"100\",\"Random model\"])\n",
    "plt.xlabel('False Positive Rate')\n",
    "plt.ylabel('True Positive Rate')\n",
    "plt.title('ROC')"
   ]
  },
  {
   "cell_type": "markdown",
   "metadata": {},
   "source": [
    "We see that our model is capturing the differences between the different types of cases. A random model has an AUC of 0.5 and all target variables had an AUC over 0.5. The model works best at predicting cases where a civil war is not occurring (\"000\") or ongoing (\"001\"). Due to the lack of samples (around 20 in the training set), the other two cases have a lower score (0.643 for ending civil wars \"010\" and 0.696 for starting civil wars \"100\"), but still over 0.5.\n",
    "\n",
    "Finally, checking the results with the test set:"
   ]
  },
  {
   "cell_type": "code",
   "execution_count": null,
   "metadata": {},
   "outputs": [],
   "source": [
    "ypred = rf1.predict_proba(Xtest)"
   ]
  },
  {
   "cell_type": "code",
   "execution_count": null,
   "metadata": {},
   "outputs": [],
   "source": [
    "f, ax = plt.subplots()\n",
    "for i in range(0,len(classes)):\n",
    "    print(classes[i],':',roc_auc_score(ytest==classes[i], ypred[:,i]))\n",
    "    fp, tp, _ = roc_curve(ytest==classes[i], ypred[:,i])\n",
    "    ax.plot(fp, tp)\n",
    "ax.plot([0,1],[0,1]) \n",
    "plt.legend([\"000\",\"001\",\"010\",\"100\",\"Random model\"])\n",
    "plt.xlabel('False Positive Rate')\n",
    "plt.ylabel('True Positive Rate')\n",
    "plt.title('ROC')\n",
    "plt.rcParams.update({'font.size': 12});"
   ]
  },
  {
   "cell_type": "markdown",
   "metadata": {},
   "source": [
    "The results obtained from the test set are very similar to the out of bag predictions. Although a little bit lower suggesting a certain level of overfitting.\n",
    "\n",
    "Finaly, the model's predictor importance:"
   ]
  },
  {
   "cell_type": "code",
   "execution_count": null,
   "metadata": {},
   "outputs": [],
   "source": [
    "importance = rf1.feature_importances_\n",
    "importance_list = []\n",
    "\n",
    "for i in range(0,len(Xtrain.columns)):\n",
    "    importance_list.append((Xtrain.columns[i], importance[i]))\n",
    "\n",
    "importance_df = pd.DataFrame(importance_list, columns = [\"Predictor\",\"Importance\"])"
   ]
  },
  {
   "cell_type": "code",
   "execution_count": null,
   "metadata": {},
   "outputs": [],
   "source": [
    "pd.set_option('display.max_columns', None)\n",
    "importance_df.sort_values(\"Importance\", ascending = False).transpose()"
   ]
  },
  {
   "cell_type": "markdown",
   "metadata": {},
   "source": [
    "The higher importance of a predictor is for *\"Ins_Gov\"*, which was the lowest p-value to diferenciate between peace and the start of a civil war and the top of the coeficients that affected the second principal componend which splitted starting and ending civil wars. \n",
    "\n",
    "Insurgents are present in the first 4 predictors.\n",
    "\n",
    "### 2.1.4. Conclusions\n",
    "\n",
    "The main problem of this problem is that is very opaque. The only useful information is the number of events registered, but it does not provide information on what kind of interaction lead to conflict. It is also worth noticing that People is a sector that contains individuals that can be in either side, with the Government, with Insurgents or with the Opposition. So this is still something that the current model fails to capture. "
   ]
  },
  {
   "cell_type": "markdown",
   "metadata": {},
   "source": [
    "### 2.2. Total intensity\n",
    "The intensity of each event is registered in the *\"Intensity\"* column of the original dataset. It measures the scale of the event from -10 to 10, with -10 being the less cooperative interaction and 10 the most cooperative. This column can be used to see the sum of the interaction for each source-target pair. The purpose of this model is to solve the lack of information of the previous one. This way, a way of meassuring the interaction exists.\n",
    "\n",
    "To generate the model:"
   ]
  },
  {
   "cell_type": "code",
   "execution_count": null,
   "metadata": {},
   "outputs": [],
   "source": [
    "cols = all_events.columns[5:]\n",
    "total_intensity = all_events.loc[:,[\"ISO3\", \"Year_Month\"]]\n",
    "for col in cols:\n",
    "    total_intensity[col] = all_events.loc[:,col]\n",
    "    total_intensity.loc[:,col] = total_intensity.loc[:,col]*all_events.loc[:,\"Intensity\"]"
   ]
  },
  {
   "cell_type": "code",
   "execution_count": null,
   "metadata": {},
   "outputs": [],
   "source": [
    "total_intensity = total_intensity.groupby([\"ISO3\", \"Year_Month\"]).sum().reset_index()\n",
    "total_intensity = cw.add_missing_months(total_intensity)\n",
    "total_intensity = cw.add_cw(total_intensity, \"PITF Consolidated Case List 2018-converted.xlsx\")"
   ]
  },
  {
   "cell_type": "code",
   "execution_count": null,
   "metadata": {},
   "outputs": [],
   "source": [
    "total_intensity.sample(5)"
   ]
  },
  {
   "cell_type": "markdown",
   "metadata": {},
   "source": [
    "### 2.2.1. Statistical differences between predictors\n",
    "Once again, t-tests will be used to determine statistical differences between the means. First, the means for each predictor will be obtained:"
   ]
  },
  {
   "cell_type": "code",
   "execution_count": null,
   "metadata": {},
   "outputs": [],
   "source": [
    "# Separating events\n",
    "no_civil_war = total_intensity[total_intensity[\"CW_plus1\"]==\"000\"]\n",
    "civil_war_starts = total_intensity[total_intensity[\"CW_plus1\"]==\"100\"]\n",
    "civil_war_finishes = total_intensity[total_intensity[\"CW_plus1\"]==\"010\"]\n",
    "civil_war_ongoing = total_intensity[total_intensity[\"CW_plus1\"]==\"001\"]"
   ]
  },
  {
   "cell_type": "code",
   "execution_count": null,
   "metadata": {},
   "outputs": [],
   "source": [
    "# Means\n",
    "cols = total_intensity.columns[2:-1]\n",
    "mean_values = pd.DataFrame(index = [\"000\", \"100\", \"001\", \"010\"], columns = cols)\n",
    "mean_values.loc[\"000\",:] = no_civil_war[cols].mean().round(4)\n",
    "mean_values.loc[\"100\",:] = civil_war_starts[cols].mean().round(4)\n",
    "mean_values.loc[\"001\",:] = civil_war_ongoing[cols].mean().round(4)\n",
    "mean_values.loc[\"010\",:] = civil_war_finishes[cols].mean().round(4)\n",
    "mean_values"
   ]
  },
  {
   "cell_type": "markdown",
   "metadata": {},
   "source": [
    "All means are negative, with the only positive mean bein for *\"Opp_Ins\"* at the end of a civil war.\n",
    "\n",
    "To see statistical differences between the means for periods of peace and the start of a civil war:"
   ]
  },
  {
   "cell_type": "code",
   "execution_count": null,
   "metadata": {},
   "outputs": [],
   "source": [
    "pvalues_snw = []\n",
    "for i in range(0, len(cols)):\n",
    "    a = no_civil_war[cols[i]]\n",
    "    b = civil_war_starts[cols[i]]\n",
    "    pvalue = sp.ttest_ind(a, b, equal_var=False).pvalue\n",
    "    pvalues_snw.append((cols[i], pvalue))\n",
    "pd.DataFrame(pvalues_snw).set_index(0).sort_values(1).round(3).transpose()"
   ]
  },
  {
   "cell_type": "markdown",
   "metadata": {},
   "source": [
    "Only one predictor has a value bellow 0.05, that is the *\"Ins_Gov\"* predictor. The means in this case are:"
   ]
  },
  {
   "cell_type": "code",
   "execution_count": null,
   "metadata": {},
   "outputs": [],
   "source": [
    "mean_values.loc[[\"000\",\"100\"],[\"Ins_Gov\"]].transpose()"
   ]
  },
  {
   "cell_type": "markdown",
   "metadata": {},
   "source": [
    "So when the civil war start, the intensity of the interaction where Insurgents are the source and Government is the target decreases. This suggests that attacks from insurgents to the government (whether armed or verbal) start to happen. So a good way to determine if a civil war is about to start is to see if the intensity of the actions from Insurgents to the Government decreases. \n",
    "\n",
    "The differences between ongoing civil wars and ending civil wars are:"
   ]
  },
  {
   "cell_type": "code",
   "execution_count": null,
   "metadata": {},
   "outputs": [],
   "source": [
    "pvalues_of = []\n",
    "for i in range(0, len(cols)):\n",
    "    a = civil_war_finishes[cols[i]]\n",
    "    b = civil_war_ongoing[cols[i]]\n",
    "    pvalue = sp.ttest_ind(a, b, equal_var=False).pvalue\n",
    "    pvalues_of.append((cols[i], pvalue))\n",
    "pd.DataFrame(pvalues_of).set_index(0).sort_values(1).transpose()"
   ]
  },
  {
   "cell_type": "markdown",
   "metadata": {},
   "source": [
    "7 predictors have a p-value bellow 0.05. To see the difference between means:"
   ]
  },
  {
   "cell_type": "code",
   "execution_count": null,
   "metadata": {},
   "outputs": [],
   "source": [
    "mean_values.loc[[\"001\",\"010\"],[\"Opp_Gov\",\"Gov_Opp\",\"Gov_Peo\",\"Peo_Gov\",\"Opp_Peo\",\"Peo_Ins\",\"Peo_Opp\"]]"
   ]
  },
  {
   "cell_type": "markdown",
   "metadata": {},
   "source": [
    "All predictors tend to increase their intensity at the end of the conflict. This suggests relaxation of the conflict. So a good way to determine if a civil war is going to end is to see if the intensity of the interaction between the sectors specified above drops significantly.  "
   ]
  },
  {
   "cell_type": "markdown",
   "metadata": {},
   "source": [
    "### 2.2.2. Principal component analysis\n",
    "Again, this is to see if the model is able to split the data and to extract information from the main two principal components:"
   ]
  },
  {
   "cell_type": "code",
   "execution_count": null,
   "metadata": {},
   "outputs": [],
   "source": [
    "data = total_intensity.iloc[:,2:-1]\n",
    "\n",
    "# Standardize\n",
    "ss = StandardScaler()\n",
    "data = ss.fit_transform(data)"
   ]
  },
  {
   "cell_type": "code",
   "execution_count": null,
   "metadata": {},
   "outputs": [],
   "source": [
    "pca = PCA(2)\n",
    "pca.fit(data)"
   ]
  },
  {
   "cell_type": "code",
   "execution_count": null,
   "metadata": {},
   "outputs": [],
   "source": [
    "pca.explained_variance_ratio_"
   ]
  },
  {
   "cell_type": "code",
   "execution_count": null,
   "metadata": {},
   "outputs": [],
   "source": [
    "np.sum(pca.explained_variance_ratio_)"
   ]
  },
  {
   "cell_type": "markdown",
   "metadata": {},
   "source": [
    "The first two principal components explain about 59% of the total variation, which is less than the previous model. To see how the data is distributed with these two components, the transformation under the principal components will be made:"
   ]
  },
  {
   "cell_type": "code",
   "execution_count": null,
   "metadata": {},
   "outputs": [],
   "source": [
    "data_transformed = pca.transform(data)"
   ]
  },
  {
   "cell_type": "code",
   "execution_count": null,
   "metadata": {},
   "outputs": [],
   "source": [
    "f, ax = plt.subplots(ncols = 3, figsize = (20,5))\n",
    "ax[0].scatter(data_transformed[:,0], data_transformed[:,1], alpha = 0.1)\n",
    "ax[0].scatter(data_transformed[total_intensity[\"CW_plus1\"]==\"100\",0], \n",
    "            data_transformed[total_intensity[\"CW_plus1\"]==\"100\",1], alpha = 0.5)\n",
    "ax[0].legend([\"All values\", \"100\"], prop={'size': 12})\n",
    "ax[1].scatter(data_transformed[:,0], data_transformed[:,1], alpha = 0.1)\n",
    "ax[1].scatter(data_transformed[total_intensity[\"CW_plus1\"]==\"010\",0], \n",
    "            data_transformed[total_intensity[\"CW_plus1\"]==\"010\",1], alpha = 0.5)\n",
    "ax[1].legend([\"All values\", \"010\"], prop={'size': 12})\n",
    "ax[2].scatter(data_transformed[:,0], data_transformed[:,1], alpha = 0.1)\n",
    "ax[2].scatter(data_transformed[total_intensity[\"CW_plus1\"]==\"001\",0], \n",
    "            data_transformed[total_intensity[\"CW_plus1\"]==\"001\",1], alpha = 0.5)\n",
    "ax[2].legend([\"All values\", \"001\"], prop={'size': 12})"
   ]
  },
  {
   "cell_type": "markdown",
   "metadata": {},
   "source": [
    "The results using PCA are very similar to the ones of the previous model. The distribution is agian fan-shaped, however, this time starting civil wars are near the top edge of the distribution and ending civil war near the lower edge. Ongoing civil wars are still very scattered. \n",
    "\n",
    "To see what predictors contribute more to each principal component:"
   ]
  },
  {
   "cell_type": "code",
   "execution_count": null,
   "metadata": {},
   "outputs": [],
   "source": [
    "components = pd.DataFrame(pca.components_).transpose()\n",
    "sorted_cols = components[0].abs().sort_values(ascending = False).index\n",
    "[(cols[i], components.iloc[i,0]) for i in sorted_cols]"
   ]
  },
  {
   "cell_type": "markdown",
   "metadata": {},
   "source": [
    "The results are very similar to the ones on the previous model, with the interaction between People and Government at the top of the predictors for the first component. \n",
    "\n",
    "For the second component, the one that is, again, separating starting civil wars with ending civil wars:"
   ]
  },
  {
   "cell_type": "code",
   "execution_count": null,
   "metadata": {},
   "outputs": [],
   "source": [
    "components = pd.DataFrame(pca.components_).transpose()\n",
    "sorted_cols = components[1].abs().sort_values(ascending = False).index\n",
    "[(cols[i], components.iloc[i,1]) for i in sorted_cols]"
   ]
  },
  {
   "cell_type": "markdown",
   "metadata": {},
   "source": [
    "This time predictors change in comparison with the ones in the previous model. \n",
    "\n",
    "Since starting civil wars have a positive value in the second principal component, this suggest that predictors with a negative coefficient have a lower value for starting civil wars (*\"Gov_Opp\"*, *\"Opp_Gov\"*, *\"Peo_Opp\"*, ...), because the mean intensity is negative (a negative number times a negative number is positive). This are the same predictors that where relevant to starting civil wars in the previous model. "
   ]
  },
  {
   "cell_type": "markdown",
   "metadata": {},
   "source": [
    "### 2.2.3. Training the model"
   ]
  },
  {
   "cell_type": "code",
   "execution_count": null,
   "metadata": {},
   "outputs": [],
   "source": [
    "date_filter = \"2004-01\"\n",
    "\n",
    "Xtrain = total_intensity[total_intensity[\"Year_Month\"]>=date_filter].iloc[:,2:-1]\n",
    "ytrain = total_intensity[total_intensity[\"Year_Month\"]>=date_filter].iloc[:,-1]\n",
    "\n",
    "Xtest = total_intensity[total_intensity[\"Year_Month\"]<date_filter].iloc[:,2:-1]\n",
    "ytest = total_intensity[total_intensity[\"Year_Month\"]<date_filter].iloc[:,-1]"
   ]
  },
  {
   "cell_type": "code",
   "execution_count": null,
   "metadata": {},
   "outputs": [],
   "source": [
    "rf2 = RandomForestClassifier(random_state = 1492, n_estimators = 1000, oob_score = True,\n",
    "                               criterion = \"entropy\", max_leaf_nodes=5);\n",
    "rf2.fit(Xtrain, ytrain)"
   ]
  },
  {
   "cell_type": "markdown",
   "metadata": {},
   "source": [
    "To see how the model works, out of bag samples will be used:"
   ]
  },
  {
   "cell_type": "code",
   "execution_count": null,
   "metadata": {},
   "outputs": [],
   "source": [
    "ytrain_score = rf2.oob_decision_function_"
   ]
  },
  {
   "cell_type": "code",
   "execution_count": null,
   "metadata": {},
   "outputs": [],
   "source": [
    "classes = rf2.classes_\n",
    "f, ax = plt.subplots()\n",
    "for i in range(0,len(classes)):\n",
    "    print(classes[i],':',roc_auc_score(ytrain==classes[i], ytrain_score[:,i]))\n",
    "    fp, tp, _ = roc_curve(ytrain==classes[i], ytrain_score[:,i])\n",
    "    ax.plot(fp, tp)\n",
    "ax.plot([0,1],[0,1]) \n",
    "plt.rcParams.update({'font.size': 12});\n",
    "plt.legend([\"000\",\"001\",\"010\",\"100\",\"Random model\"])\n",
    "plt.xlabel('False Positive Rate')\n",
    "plt.ylabel('True Positive Rate')\n",
    "plt.title('ROC')"
   ]
  },
  {
   "cell_type": "markdown",
   "metadata": {},
   "source": [
    "There is a very subtle improvement from the previous model, but results are very similar, suggesting that the model did not improve the prediction results. "
   ]
  },
  {
   "cell_type": "code",
   "execution_count": null,
   "metadata": {},
   "outputs": [],
   "source": [
    "ypred = rf2.predict_proba(Xtest)"
   ]
  },
  {
   "cell_type": "code",
   "execution_count": null,
   "metadata": {},
   "outputs": [],
   "source": [
    "f, ax = plt.subplots()\n",
    "for i in range(0,len(classes)):\n",
    "    print(classes[i],':',roc_auc_score(ytest==classes[i], ypred[:,i]))\n",
    "    fp, tp, _ = roc_curve(ytest==classes[i], ypred[:,i])\n",
    "    ax.plot(fp, tp)\n",
    "ax.plot([0,1],[0,1]) \n",
    "plt.legend([\"000\",\"001\",\"010\",\"100\",\"Random model\"])\n",
    "plt.xlabel('False Positive Rate')\n",
    "plt.ylabel('True Positive Rate')\n",
    "plt.title('ROC')\n",
    "plt.rcParams.update({'font.size': 12});"
   ]
  },
  {
   "cell_type": "markdown",
   "metadata": {},
   "source": []
  }
 ],
 "metadata": {
  "kernelspec": {
   "display_name": "Python 3",
   "language": "python",
   "name": "python3"
  },
  "language_info": {
   "codemirror_mode": {
    "name": "ipython",
    "version": 3
   },
   "file_extension": ".py",
   "mimetype": "text/x-python",
   "name": "python",
   "nbconvert_exporter": "python",
   "pygments_lexer": "ipython3",
   "version": "3.8.3"
  }
 },
 "nbformat": 4,
 "nbformat_minor": 4
}
